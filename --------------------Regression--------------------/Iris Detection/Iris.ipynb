{
 "cells": [
  {
   "cell_type": "code",
   "execution_count": 1,
   "metadata": {},
   "outputs": [],
   "source": [
    "import pandas as pd\n",
    "from sklearn.linear_model import LogisticRegression\n",
    "from sklearn.model_selection import train_test_split\n",
    "from sklearn.preprocessing import LabelEncoder"
   ]
  },
  {
   "cell_type": "markdown",
   "metadata": {},
   "source": [
    "<h2>Read Dataset</h2>"
   ]
  },
  {
   "cell_type": "code",
   "execution_count": 2,
   "metadata": {},
   "outputs": [
    {
     "name": "stdout",
     "output_type": "stream",
     "text": [
      "   SepalLengthCm  SepalWidthCm  PetalLengthCm  PetalWidthCm      Species\n",
      "0            5.1           3.5            1.4           0.2  Iris-setosa\n",
      "1            4.9           3.0            1.4           0.2  Iris-setosa\n",
      "2            4.7           3.2            1.3           0.2  Iris-setosa\n",
      "3            4.6           3.1            1.5           0.2  Iris-setosa\n",
      "4            5.0           3.6            1.4           0.2  Iris-setosa\n"
     ]
    }
   ],
   "source": [
    "data = pd.read_csv('Iris.csv')\n",
    "print(data.head())"
   ]
  },
  {
   "cell_type": "code",
   "execution_count": 3,
   "metadata": {},
   "outputs": [
    {
     "name": "stdout",
     "output_type": "stream",
     "text": [
      "Index(['SepalLengthCm', 'SepalWidthCm', 'PetalLengthCm', 'PetalWidthCm',\n",
      "       'Species'],\n",
      "      dtype='object')\n"
     ]
    }
   ],
   "source": [
    "print(data.columns)"
   ]
  },
  {
   "cell_type": "markdown",
   "metadata": {},
   "source": [
    "<h2>label encode the target variable</h2>"
   ]
  },
  {
   "cell_type": "code",
   "execution_count": 4,
   "metadata": {},
   "outputs": [],
   "source": [
    "encode = LabelEncoder()\n",
    "data['Species'] = encode.fit_transform(data['Species'])"
   ]
  },
  {
   "cell_type": "code",
   "execution_count": 5,
   "metadata": {},
   "outputs": [
    {
     "name": "stdout",
     "output_type": "stream",
     "text": [
      "   SepalLengthCm  SepalWidthCm  PetalLengthCm  PetalWidthCm  Species\n",
      "0            5.1           3.5            1.4           0.2        0\n",
      "1            4.9           3.0            1.4           0.2        0\n",
      "2            4.7           3.2            1.3           0.2        0\n",
      "3            4.6           3.1            1.5           0.2        0\n",
      "4            5.0           3.6            1.4           0.2        0\n"
     ]
    }
   ],
   "source": [
    "print(data.head())"
   ]
  },
  {
   "cell_type": "code",
   "execution_count": 6,
   "metadata": {},
   "outputs": [],
   "source": [
    "x = data.iloc[:, :4].values\n",
    "Y = data.iloc[:, -1:].values"
   ]
  },
  {
   "cell_type": "markdown",
   "metadata": {},
   "source": [
    "<h2>train-test-split</h2>"
   ]
  },
  {
   "cell_type": "code",
   "execution_count": 7,
   "metadata": {},
   "outputs": [],
   "source": [
    "x_train, x_test, Y_train, Y_test = train_test_split(x, Y, test_size=0.2,random_state=0)"
   ]
  },
  {
   "cell_type": "markdown",
   "metadata": {},
   "source": [
    "<h2>Decision Tree Regression</h2>"
   ]
  },
  {
   "cell_type": "code",
   "execution_count": 8,
   "metadata": {},
   "outputs": [
    {
     "data": {
      "text/plain": [
       "DecisionTreeRegressor(criterion='mse', max_depth=None, max_features=None,\n",
       "                      max_leaf_nodes=None, min_impurity_decrease=0.0,\n",
       "                      min_impurity_split=None, min_samples_leaf=1,\n",
       "                      min_samples_split=2, min_weight_fraction_leaf=0.0,\n",
       "                      presort=False, random_state=0, splitter='best')"
      ]
     },
     "execution_count": 8,
     "metadata": {},
     "output_type": "execute_result"
    }
   ],
   "source": [
    "from sklearn.tree import DecisionTreeRegressor , export_graphviz\n",
    "model = DecisionTreeRegressor(random_state = 0)\n",
    "model.fit(x_train, Y_train)"
   ]
  },
  {
   "cell_type": "code",
   "execution_count": 9,
   "metadata": {},
   "outputs": [],
   "source": [
    "predict = model.predict(x_test)"
   ]
  },
  {
   "cell_type": "markdown",
   "metadata": {},
   "source": [
    "<h2>Print Accuracy_scroe</h2>"
   ]
  },
  {
   "cell_type": "code",
   "execution_count": 10,
   "metadata": {},
   "outputs": [
    {
     "name": "stdout",
     "output_type": "stream",
     "text": [
      "100.0 %\n"
     ]
    }
   ],
   "source": [
    "from sklearn.metrics import accuracy_score\n",
    "print(accuracy_score(Y_test,predict)*100,'%')"
   ]
  },
  {
   "cell_type": "markdown",
   "metadata": {},
   "source": [
    "<h2>Print Decision Tree Regressor</h2>"
   ]
  },
  {
   "cell_type": "code",
   "execution_count": 12,
   "metadata": {},
   "outputs": [
    {
     "data": {
      "image/svg+xml": [
       "<?xml version=\"1.0\" encoding=\"UTF-8\" standalone=\"no\"?>\r\n",
       "<!DOCTYPE svg PUBLIC \"-//W3C//DTD SVG 1.1//EN\"\r\n",
       " \"http://www.w3.org/Graphics/SVG/1.1/DTD/svg11.dtd\">\r\n",
       "<!-- Generated by graphviz version 2.38.0 (20140413.2041)\r\n",
       " -->\r\n",
       "<!-- Title: Tree Pages: 1 -->\r\n",
       "<svg width=\"625pt\" height=\"581pt\"\r\n",
       " viewBox=\"0.00 0.00 625.00 581.00\" xmlns=\"http://www.w3.org/2000/svg\" xmlns:xlink=\"http://www.w3.org/1999/xlink\">\r\n",
       "<g id=\"graph0\" class=\"graph\" transform=\"scale(1 1) rotate(0) translate(4 577)\">\r\n",
       "<title>Tree</title>\r\n",
       "<polygon fill=\"white\" stroke=\"none\" points=\"-4,4 -4,-577 621,-577 621,4 -4,4\"/>\r\n",
       "<!-- 0 -->\r\n",
       "<g id=\"node1\" class=\"node\"><title>0</title>\r\n",
       "<polygon fill=\"none\" stroke=\"black\" points=\"381.5,-573 283.5,-573 283.5,-505 381.5,-505 381.5,-573\"/>\r\n",
       "<text text-anchor=\"middle\" x=\"332.5\" y=\"-557.8\" font-family=\"Times New Roman,serif\" font-size=\"14.00\">X[3] &lt;= 0.8</text>\r\n",
       "<text text-anchor=\"middle\" x=\"332.5\" y=\"-542.8\" font-family=\"Times New Roman,serif\" font-size=\"14.00\">mse = 0.69</text>\r\n",
       "<text text-anchor=\"middle\" x=\"332.5\" y=\"-527.8\" font-family=\"Times New Roman,serif\" font-size=\"14.00\">samples = 120</text>\r\n",
       "<text text-anchor=\"middle\" x=\"332.5\" y=\"-512.8\" font-family=\"Times New Roman,serif\" font-size=\"14.00\">value = 1.042</text>\r\n",
       "</g>\r\n",
       "<!-- 1 -->\r\n",
       "<g id=\"node2\" class=\"node\"><title>1</title>\r\n",
       "<polygon fill=\"none\" stroke=\"black\" points=\"323,-461.5 232,-461.5 232,-408.5 323,-408.5 323,-461.5\"/>\r\n",
       "<text text-anchor=\"middle\" x=\"277.5\" y=\"-446.3\" font-family=\"Times New Roman,serif\" font-size=\"14.00\">mse = 0.0</text>\r\n",
       "<text text-anchor=\"middle\" x=\"277.5\" y=\"-431.3\" font-family=\"Times New Roman,serif\" font-size=\"14.00\">samples = 39</text>\r\n",
       "<text text-anchor=\"middle\" x=\"277.5\" y=\"-416.3\" font-family=\"Times New Roman,serif\" font-size=\"14.00\">value = 0.0</text>\r\n",
       "</g>\r\n",
       "<!-- 0&#45;&gt;1 -->\r\n",
       "<g id=\"edge1\" class=\"edge\"><title>0&#45;&gt;1</title>\r\n",
       "<path fill=\"none\" stroke=\"black\" d=\"M314.643,-504.884C308.713,-493.886 302.098,-481.617 296.112,-470.517\"/>\r\n",
       "<polygon fill=\"black\" stroke=\"black\" points=\"299.088,-468.661 291.261,-461.52 292.926,-471.983 299.088,-468.661\"/>\r\n",
       "<text text-anchor=\"middle\" x=\"284.091\" y=\"-481.77\" font-family=\"Times New Roman,serif\" font-size=\"14.00\">True</text>\r\n",
       "</g>\r\n",
       "<!-- 2 -->\r\n",
       "<g id=\"node3\" class=\"node\"><title>2</title>\r\n",
       "<polygon fill=\"none\" stroke=\"black\" points=\"433.5,-469 341.5,-469 341.5,-401 433.5,-401 433.5,-469\"/>\r\n",
       "<text text-anchor=\"middle\" x=\"387.5\" y=\"-453.8\" font-family=\"Times New Roman,serif\" font-size=\"14.00\">X[3] &lt;= 1.75</text>\r\n",
       "<text text-anchor=\"middle\" x=\"387.5\" y=\"-438.8\" font-family=\"Times New Roman,serif\" font-size=\"14.00\">mse = 0.248</text>\r\n",
       "<text text-anchor=\"middle\" x=\"387.5\" y=\"-423.8\" font-family=\"Times New Roman,serif\" font-size=\"14.00\">samples = 81</text>\r\n",
       "<text text-anchor=\"middle\" x=\"387.5\" y=\"-408.8\" font-family=\"Times New Roman,serif\" font-size=\"14.00\">value = 1.543</text>\r\n",
       "</g>\r\n",
       "<!-- 0&#45;&gt;2 -->\r\n",
       "<g id=\"edge2\" class=\"edge\"><title>0&#45;&gt;2</title>\r\n",
       "<path fill=\"none\" stroke=\"black\" d=\"M350.357,-504.884C354.92,-496.422 359.888,-487.207 364.663,-478.352\"/>\r\n",
       "<polygon fill=\"black\" stroke=\"black\" points=\"367.879,-479.762 369.544,-469.299 361.718,-476.44 367.879,-479.762\"/>\r\n",
       "<text text-anchor=\"middle\" x=\"376.714\" y=\"-489.549\" font-family=\"Times New Roman,serif\" font-size=\"14.00\">False</text>\r\n",
       "</g>\r\n",
       "<!-- 3 -->\r\n",
       "<g id=\"node4\" class=\"node\"><title>3</title>\r\n",
       "<polygon fill=\"none\" stroke=\"black\" points=\"354,-365 263,-365 263,-297 354,-297 354,-365\"/>\r\n",
       "<text text-anchor=\"middle\" x=\"308.5\" y=\"-349.8\" font-family=\"Times New Roman,serif\" font-size=\"14.00\">X[2] &lt;= 4.95</text>\r\n",
       "<text text-anchor=\"middle\" x=\"308.5\" y=\"-334.8\" font-family=\"Times New Roman,serif\" font-size=\"14.00\">mse = 0.09</text>\r\n",
       "<text text-anchor=\"middle\" x=\"308.5\" y=\"-319.8\" font-family=\"Times New Roman,serif\" font-size=\"14.00\">samples = 40</text>\r\n",
       "<text text-anchor=\"middle\" x=\"308.5\" y=\"-304.8\" font-family=\"Times New Roman,serif\" font-size=\"14.00\">value = 1.1</text>\r\n",
       "</g>\r\n",
       "<!-- 2&#45;&gt;3 -->\r\n",
       "<g id=\"edge3\" class=\"edge\"><title>2&#45;&gt;3</title>\r\n",
       "<path fill=\"none\" stroke=\"black\" d=\"M361.851,-400.884C355.021,-392.065 347.559,-382.43 340.437,-373.235\"/>\r\n",
       "<polygon fill=\"black\" stroke=\"black\" points=\"343.181,-371.062 334.291,-365.299 337.647,-375.349 343.181,-371.062\"/>\r\n",
       "</g>\r\n",
       "<!-- 12 -->\r\n",
       "<g id=\"node13\" class=\"node\"><title>12</title>\r\n",
       "<polygon fill=\"none\" stroke=\"black\" points=\"511.5,-365 419.5,-365 419.5,-297 511.5,-297 511.5,-365\"/>\r\n",
       "<text text-anchor=\"middle\" x=\"465.5\" y=\"-349.8\" font-family=\"Times New Roman,serif\" font-size=\"14.00\">X[2] &lt;= 4.85</text>\r\n",
       "<text text-anchor=\"middle\" x=\"465.5\" y=\"-334.8\" font-family=\"Times New Roman,serif\" font-size=\"14.00\">mse = 0.024</text>\r\n",
       "<text text-anchor=\"middle\" x=\"465.5\" y=\"-319.8\" font-family=\"Times New Roman,serif\" font-size=\"14.00\">samples = 41</text>\r\n",
       "<text text-anchor=\"middle\" x=\"465.5\" y=\"-304.8\" font-family=\"Times New Roman,serif\" font-size=\"14.00\">value = 1.976</text>\r\n",
       "</g>\r\n",
       "<!-- 2&#45;&gt;12 -->\r\n",
       "<g id=\"edge12\" class=\"edge\"><title>2&#45;&gt;12</title>\r\n",
       "<path fill=\"none\" stroke=\"black\" d=\"M412.824,-400.884C419.5,-392.154 426.787,-382.625 433.754,-373.514\"/>\r\n",
       "<polygon fill=\"black\" stroke=\"black\" points=\"436.742,-375.369 440.036,-365.299 431.181,-371.117 436.742,-375.369\"/>\r\n",
       "</g>\r\n",
       "<!-- 4 -->\r\n",
       "<g id=\"node5\" class=\"node\"><title>4</title>\r\n",
       "<polygon fill=\"none\" stroke=\"black\" points=\"197.5,-261 105.5,-261 105.5,-193 197.5,-193 197.5,-261\"/>\r\n",
       "<text text-anchor=\"middle\" x=\"151.5\" y=\"-245.8\" font-family=\"Times New Roman,serif\" font-size=\"14.00\">X[3] &lt;= 1.65</text>\r\n",
       "<text text-anchor=\"middle\" x=\"151.5\" y=\"-230.8\" font-family=\"Times New Roman,serif\" font-size=\"14.00\">mse = 0.028</text>\r\n",
       "<text text-anchor=\"middle\" x=\"151.5\" y=\"-215.8\" font-family=\"Times New Roman,serif\" font-size=\"14.00\">samples = 35</text>\r\n",
       "<text text-anchor=\"middle\" x=\"151.5\" y=\"-200.8\" font-family=\"Times New Roman,serif\" font-size=\"14.00\">value = 1.029</text>\r\n",
       "</g>\r\n",
       "<!-- 3&#45;&gt;4 -->\r\n",
       "<g id=\"edge4\" class=\"edge\"><title>3&#45;&gt;4</title>\r\n",
       "<path fill=\"none\" stroke=\"black\" d=\"M262.667,-300.223C245.009,-288.751 224.666,-275.535 206.249,-263.569\"/>\r\n",
       "<polygon fill=\"black\" stroke=\"black\" points=\"207.954,-260.503 197.662,-257.99 204.141,-266.373 207.954,-260.503\"/>\r\n",
       "</g>\r\n",
       "<!-- 7 -->\r\n",
       "<g id=\"node8\" class=\"node\"><title>7</title>\r\n",
       "<polygon fill=\"none\" stroke=\"black\" points=\"353.5,-261 263.5,-261 263.5,-193 353.5,-193 353.5,-261\"/>\r\n",
       "<text text-anchor=\"middle\" x=\"308.5\" y=\"-245.8\" font-family=\"Times New Roman,serif\" font-size=\"14.00\">X[3] &lt;= 1.55</text>\r\n",
       "<text text-anchor=\"middle\" x=\"308.5\" y=\"-230.8\" font-family=\"Times New Roman,serif\" font-size=\"14.00\">mse = 0.24</text>\r\n",
       "<text text-anchor=\"middle\" x=\"308.5\" y=\"-215.8\" font-family=\"Times New Roman,serif\" font-size=\"14.00\">samples = 5</text>\r\n",
       "<text text-anchor=\"middle\" x=\"308.5\" y=\"-200.8\" font-family=\"Times New Roman,serif\" font-size=\"14.00\">value = 1.6</text>\r\n",
       "</g>\r\n",
       "<!-- 3&#45;&gt;7 -->\r\n",
       "<g id=\"edge7\" class=\"edge\"><title>3&#45;&gt;7</title>\r\n",
       "<path fill=\"none\" stroke=\"black\" d=\"M308.5,-296.884C308.5,-288.778 308.5,-279.982 308.5,-271.472\"/>\r\n",
       "<polygon fill=\"black\" stroke=\"black\" points=\"312,-271.299 308.5,-261.299 305,-271.299 312,-271.299\"/>\r\n",
       "</g>\r\n",
       "<!-- 5 -->\r\n",
       "<g id=\"node6\" class=\"node\"><title>5</title>\r\n",
       "<polygon fill=\"none\" stroke=\"black\" points=\"91,-149.5 0,-149.5 0,-96.5 91,-96.5 91,-149.5\"/>\r\n",
       "<text text-anchor=\"middle\" x=\"45.5\" y=\"-134.3\" font-family=\"Times New Roman,serif\" font-size=\"14.00\">mse = 0.0</text>\r\n",
       "<text text-anchor=\"middle\" x=\"45.5\" y=\"-119.3\" font-family=\"Times New Roman,serif\" font-size=\"14.00\">samples = 34</text>\r\n",
       "<text text-anchor=\"middle\" x=\"45.5\" y=\"-104.3\" font-family=\"Times New Roman,serif\" font-size=\"14.00\">value = 1.0</text>\r\n",
       "</g>\r\n",
       "<!-- 4&#45;&gt;5 -->\r\n",
       "<g id=\"edge5\" class=\"edge\"><title>4&#45;&gt;5</title>\r\n",
       "<path fill=\"none\" stroke=\"black\" d=\"M117.085,-192.884C104.97,-181.226 91.3716,-168.141 79.3073,-156.532\"/>\r\n",
       "<polygon fill=\"black\" stroke=\"black\" points=\"81.6533,-153.932 72.0207,-149.52 76.7996,-158.976 81.6533,-153.932\"/>\r\n",
       "</g>\r\n",
       "<!-- 6 -->\r\n",
       "<g id=\"node7\" class=\"node\"><title>6</title>\r\n",
       "<polygon fill=\"none\" stroke=\"black\" points=\"193.5,-149.5 109.5,-149.5 109.5,-96.5 193.5,-96.5 193.5,-149.5\"/>\r\n",
       "<text text-anchor=\"middle\" x=\"151.5\" y=\"-134.3\" font-family=\"Times New Roman,serif\" font-size=\"14.00\">mse = 0.0</text>\r\n",
       "<text text-anchor=\"middle\" x=\"151.5\" y=\"-119.3\" font-family=\"Times New Roman,serif\" font-size=\"14.00\">samples = 1</text>\r\n",
       "<text text-anchor=\"middle\" x=\"151.5\" y=\"-104.3\" font-family=\"Times New Roman,serif\" font-size=\"14.00\">value = 2.0</text>\r\n",
       "</g>\r\n",
       "<!-- 4&#45;&gt;6 -->\r\n",
       "<g id=\"edge6\" class=\"edge\"><title>4&#45;&gt;6</title>\r\n",
       "<path fill=\"none\" stroke=\"black\" d=\"M151.5,-192.884C151.5,-182.326 151.5,-170.597 151.5,-159.854\"/>\r\n",
       "<polygon fill=\"black\" stroke=\"black\" points=\"155,-159.52 151.5,-149.52 148,-159.52 155,-159.52\"/>\r\n",
       "</g>\r\n",
       "<!-- 8 -->\r\n",
       "<g id=\"node9\" class=\"node\"><title>8</title>\r\n",
       "<polygon fill=\"none\" stroke=\"black\" points=\"295.5,-149.5 211.5,-149.5 211.5,-96.5 295.5,-96.5 295.5,-149.5\"/>\r\n",
       "<text text-anchor=\"middle\" x=\"253.5\" y=\"-134.3\" font-family=\"Times New Roman,serif\" font-size=\"14.00\">mse = 0.0</text>\r\n",
       "<text text-anchor=\"middle\" x=\"253.5\" y=\"-119.3\" font-family=\"Times New Roman,serif\" font-size=\"14.00\">samples = 2</text>\r\n",
       "<text text-anchor=\"middle\" x=\"253.5\" y=\"-104.3\" font-family=\"Times New Roman,serif\" font-size=\"14.00\">value = 2.0</text>\r\n",
       "</g>\r\n",
       "<!-- 7&#45;&gt;8 -->\r\n",
       "<g id=\"edge8\" class=\"edge\"><title>7&#45;&gt;8</title>\r\n",
       "<path fill=\"none\" stroke=\"black\" d=\"M290.643,-192.884C284.713,-181.886 278.098,-169.617 272.112,-158.517\"/>\r\n",
       "<polygon fill=\"black\" stroke=\"black\" points=\"275.088,-156.661 267.261,-149.52 268.926,-159.983 275.088,-156.661\"/>\r\n",
       "</g>\r\n",
       "<!-- 9 -->\r\n",
       "<g id=\"node10\" class=\"node\"><title>9</title>\r\n",
       "<polygon fill=\"none\" stroke=\"black\" points=\"405.5,-157 313.5,-157 313.5,-89 405.5,-89 405.5,-157\"/>\r\n",
       "<text text-anchor=\"middle\" x=\"359.5\" y=\"-141.8\" font-family=\"Times New Roman,serif\" font-size=\"14.00\">X[2] &lt;= 5.45</text>\r\n",
       "<text text-anchor=\"middle\" x=\"359.5\" y=\"-126.8\" font-family=\"Times New Roman,serif\" font-size=\"14.00\">mse = 0.222</text>\r\n",
       "<text text-anchor=\"middle\" x=\"359.5\" y=\"-111.8\" font-family=\"Times New Roman,serif\" font-size=\"14.00\">samples = 3</text>\r\n",
       "<text text-anchor=\"middle\" x=\"359.5\" y=\"-96.8\" font-family=\"Times New Roman,serif\" font-size=\"14.00\">value = 1.333</text>\r\n",
       "</g>\r\n",
       "<!-- 7&#45;&gt;9 -->\r\n",
       "<g id=\"edge9\" class=\"edge\"><title>7&#45;&gt;9</title>\r\n",
       "<path fill=\"none\" stroke=\"black\" d=\"M325.058,-192.884C329.289,-184.422 333.896,-175.207 338.324,-166.352\"/>\r\n",
       "<polygon fill=\"black\" stroke=\"black\" points=\"341.509,-167.809 342.85,-157.299 335.248,-164.678 341.509,-167.809\"/>\r\n",
       "</g>\r\n",
       "<!-- 10 -->\r\n",
       "<g id=\"node11\" class=\"node\"><title>10</title>\r\n",
       "<polygon fill=\"none\" stroke=\"black\" points=\"350.5,-53 266.5,-53 266.5,-0 350.5,-0 350.5,-53\"/>\r\n",
       "<text text-anchor=\"middle\" x=\"308.5\" y=\"-37.8\" font-family=\"Times New Roman,serif\" font-size=\"14.00\">mse = 0.0</text>\r\n",
       "<text text-anchor=\"middle\" x=\"308.5\" y=\"-22.8\" font-family=\"Times New Roman,serif\" font-size=\"14.00\">samples = 2</text>\r\n",
       "<text text-anchor=\"middle\" x=\"308.5\" y=\"-7.8\" font-family=\"Times New Roman,serif\" font-size=\"14.00\">value = 1.0</text>\r\n",
       "</g>\r\n",
       "<!-- 9&#45;&gt;10 -->\r\n",
       "<g id=\"edge10\" class=\"edge\"><title>9&#45;&gt;10</title>\r\n",
       "<path fill=\"none\" stroke=\"black\" d=\"M341.663,-88.9485C336.973,-80.2579 331.901,-70.8608 327.169,-62.0917\"/>\r\n",
       "<polygon fill=\"black\" stroke=\"black\" points=\"330.219,-60.3747 322.39,-53.2367 324.059,-63.6992 330.219,-60.3747\"/>\r\n",
       "</g>\r\n",
       "<!-- 11 -->\r\n",
       "<g id=\"node12\" class=\"node\"><title>11</title>\r\n",
       "<polygon fill=\"none\" stroke=\"black\" points=\"452.5,-53 368.5,-53 368.5,-0 452.5,-0 452.5,-53\"/>\r\n",
       "<text text-anchor=\"middle\" x=\"410.5\" y=\"-37.8\" font-family=\"Times New Roman,serif\" font-size=\"14.00\">mse = 0.0</text>\r\n",
       "<text text-anchor=\"middle\" x=\"410.5\" y=\"-22.8\" font-family=\"Times New Roman,serif\" font-size=\"14.00\">samples = 1</text>\r\n",
       "<text text-anchor=\"middle\" x=\"410.5\" y=\"-7.8\" font-family=\"Times New Roman,serif\" font-size=\"14.00\">value = 2.0</text>\r\n",
       "</g>\r\n",
       "<!-- 9&#45;&gt;11 -->\r\n",
       "<g id=\"edge11\" class=\"edge\"><title>9&#45;&gt;11</title>\r\n",
       "<path fill=\"none\" stroke=\"black\" d=\"M377.337,-88.9485C382.027,-80.2579 387.099,-70.8608 391.831,-62.0917\"/>\r\n",
       "<polygon fill=\"black\" stroke=\"black\" points=\"394.941,-63.6992 396.61,-53.2367 388.781,-60.3747 394.941,-63.6992\"/>\r\n",
       "</g>\r\n",
       "<!-- 13 -->\r\n",
       "<g id=\"node14\" class=\"node\"><title>13</title>\r\n",
       "<polygon fill=\"none\" stroke=\"black\" points=\"507.5,-261 423.5,-261 423.5,-193 507.5,-193 507.5,-261\"/>\r\n",
       "<text text-anchor=\"middle\" x=\"465.5\" y=\"-245.8\" font-family=\"Times New Roman,serif\" font-size=\"14.00\">X[1] &lt;= 3.1</text>\r\n",
       "<text text-anchor=\"middle\" x=\"465.5\" y=\"-230.8\" font-family=\"Times New Roman,serif\" font-size=\"14.00\">mse = 0.25</text>\r\n",
       "<text text-anchor=\"middle\" x=\"465.5\" y=\"-215.8\" font-family=\"Times New Roman,serif\" font-size=\"14.00\">samples = 2</text>\r\n",
       "<text text-anchor=\"middle\" x=\"465.5\" y=\"-200.8\" font-family=\"Times New Roman,serif\" font-size=\"14.00\">value = 1.5</text>\r\n",
       "</g>\r\n",
       "<!-- 12&#45;&gt;13 -->\r\n",
       "<g id=\"edge13\" class=\"edge\"><title>12&#45;&gt;13</title>\r\n",
       "<path fill=\"none\" stroke=\"black\" d=\"M465.5,-296.884C465.5,-288.778 465.5,-279.982 465.5,-271.472\"/>\r\n",
       "<polygon fill=\"black\" stroke=\"black\" points=\"469,-271.299 465.5,-261.299 462,-271.299 469,-271.299\"/>\r\n",
       "</g>\r\n",
       "<!-- 16 -->\r\n",
       "<g id=\"node17\" class=\"node\"><title>16</title>\r\n",
       "<polygon fill=\"none\" stroke=\"black\" points=\"617,-253.5 526,-253.5 526,-200.5 617,-200.5 617,-253.5\"/>\r\n",
       "<text text-anchor=\"middle\" x=\"571.5\" y=\"-238.3\" font-family=\"Times New Roman,serif\" font-size=\"14.00\">mse = 0.0</text>\r\n",
       "<text text-anchor=\"middle\" x=\"571.5\" y=\"-223.3\" font-family=\"Times New Roman,serif\" font-size=\"14.00\">samples = 39</text>\r\n",
       "<text text-anchor=\"middle\" x=\"571.5\" y=\"-208.3\" font-family=\"Times New Roman,serif\" font-size=\"14.00\">value = 2.0</text>\r\n",
       "</g>\r\n",
       "<!-- 12&#45;&gt;16 -->\r\n",
       "<g id=\"edge16\" class=\"edge\"><title>12&#45;&gt;16</title>\r\n",
       "<path fill=\"none\" stroke=\"black\" d=\"M499.915,-296.884C512.03,-285.226 525.628,-272.141 537.693,-260.532\"/>\r\n",
       "<polygon fill=\"black\" stroke=\"black\" points=\"540.2,-262.976 544.979,-253.52 535.347,-257.932 540.2,-262.976\"/>\r\n",
       "</g>\r\n",
       "<!-- 14 -->\r\n",
       "<g id=\"node15\" class=\"node\"><title>14</title>\r\n",
       "<polygon fill=\"none\" stroke=\"black\" points=\"507.5,-149.5 423.5,-149.5 423.5,-96.5 507.5,-96.5 507.5,-149.5\"/>\r\n",
       "<text text-anchor=\"middle\" x=\"465.5\" y=\"-134.3\" font-family=\"Times New Roman,serif\" font-size=\"14.00\">mse = 0.0</text>\r\n",
       "<text text-anchor=\"middle\" x=\"465.5\" y=\"-119.3\" font-family=\"Times New Roman,serif\" font-size=\"14.00\">samples = 1</text>\r\n",
       "<text text-anchor=\"middle\" x=\"465.5\" y=\"-104.3\" font-family=\"Times New Roman,serif\" font-size=\"14.00\">value = 2.0</text>\r\n",
       "</g>\r\n",
       "<!-- 13&#45;&gt;14 -->\r\n",
       "<g id=\"edge14\" class=\"edge\"><title>13&#45;&gt;14</title>\r\n",
       "<path fill=\"none\" stroke=\"black\" d=\"M465.5,-192.884C465.5,-182.326 465.5,-170.597 465.5,-159.854\"/>\r\n",
       "<polygon fill=\"black\" stroke=\"black\" points=\"469,-159.52 465.5,-149.52 462,-159.52 469,-159.52\"/>\r\n",
       "</g>\r\n",
       "<!-- 15 -->\r\n",
       "<g id=\"node16\" class=\"node\"><title>15</title>\r\n",
       "<polygon fill=\"none\" stroke=\"black\" points=\"609.5,-149.5 525.5,-149.5 525.5,-96.5 609.5,-96.5 609.5,-149.5\"/>\r\n",
       "<text text-anchor=\"middle\" x=\"567.5\" y=\"-134.3\" font-family=\"Times New Roman,serif\" font-size=\"14.00\">mse = 0.0</text>\r\n",
       "<text text-anchor=\"middle\" x=\"567.5\" y=\"-119.3\" font-family=\"Times New Roman,serif\" font-size=\"14.00\">samples = 1</text>\r\n",
       "<text text-anchor=\"middle\" x=\"567.5\" y=\"-104.3\" font-family=\"Times New Roman,serif\" font-size=\"14.00\">value = 1.0</text>\r\n",
       "</g>\r\n",
       "<!-- 13&#45;&gt;15 -->\r\n",
       "<g id=\"edge15\" class=\"edge\"><title>13&#45;&gt;15</title>\r\n",
       "<path fill=\"none\" stroke=\"black\" d=\"M498.616,-192.884C510.164,-181.336 523.113,-168.387 534.64,-156.86\"/>\r\n",
       "<polygon fill=\"black\" stroke=\"black\" points=\"537.384,-159.066 541.98,-149.52 532.434,-154.116 537.384,-159.066\"/>\r\n",
       "</g>\r\n",
       "</g>\r\n",
       "</svg>\r\n"
      ],
      "text/plain": [
       "<graphviz.files.Source at 0x1c534ed9588>"
      ]
     },
     "execution_count": 12,
     "metadata": {},
     "output_type": "execute_result"
    }
   ],
   "source": [
    "import graphviz\n",
    "\n",
    "export_graphviz(model,out_file=\"model.dot\")\n",
    "                \n",
    "with open(\"model.dot\") as models:\n",
    "    model_graph = models.read()\n",
    "graphviz.Source(model_graph)"
   ]
  },
  {
   "cell_type": "code",
   "execution_count": null,
   "metadata": {},
   "outputs": [],
   "source": []
  }
 ],
 "metadata": {
  "kernelspec": {
   "display_name": "Python 3",
   "language": "python",
   "name": "python3"
  },
  "language_info": {
   "codemirror_mode": {
    "name": "ipython",
    "version": 3
   },
   "file_extension": ".py",
   "mimetype": "text/x-python",
   "name": "python",
   "nbconvert_exporter": "python",
   "pygments_lexer": "ipython3",
   "version": "3.7.4"
  }
 },
 "nbformat": 4,
 "nbformat_minor": 4
}
